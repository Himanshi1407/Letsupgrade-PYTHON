{
  "nbformat": 4,
  "nbformat_minor": 0,
  "metadata": {
    "colab": {
      "name": "AssignmentDay9.ipynb",
      "provenance": [],
      "authorship_tag": "ABX9TyPzgxW7xJM/YlbJYybNnzkb",
      "include_colab_link": true
    },
    "kernelspec": {
      "name": "python3",
      "display_name": "Python 3"
    }
  },
  "cells": [
    {
      "cell_type": "markdown",
      "metadata": {
        "id": "view-in-github",
        "colab_type": "text"
      },
      "source": [
        "<a href=\"https://colab.research.google.com/github/Himanshi1407/Letsupgrade-PYTHON/blob/master/AssignmentDay9.ipynb\" target=\"_parent\"><img src=\"https://colab.research.google.com/assets/colab-badge.svg\" alt=\"Open In Colab\"/></a>"
      ]
    },
    {
      "cell_type": "code",
      "metadata": {
        "id": "8SHQkwhtVqpO",
        "colab_type": "code",
        "colab": {
          "base_uri": "https://localhost:8080/",
          "height": 34
        },
        "outputId": "f3f1ac95-abaf-4b75-d3be-9523ec983c84"
      },
      "source": [
        " # QUESTION 1 (USING UNITTEST CASE)\n",
        " \n",
        "%%writefile primes.py\n",
        "'''\n",
        "Prime number function\n",
        "'''\n",
        "def is_prime(number):\n",
        "    \"\"\"Return True if *number* is prime.\"\"\"\n",
        "    if number <= 1:\n",
        "        return False\n",
        " \n",
        "    for element in range(2, number):\n",
        "        if number % element == 0:\n",
        "            return False\n",
        " \n",
        "    return True"
      ],
      "execution_count": 1,
      "outputs": [
        {
          "output_type": "stream",
          "text": [
            "Writing primes.py\n"
          ],
          "name": "stdout"
        }
      ]
    },
    {
      "cell_type": "code",
      "metadata": {
        "id": "mLftuQ-vV1wb",
        "colab_type": "code",
        "colab": {
          "base_uri": "https://localhost:8080/",
          "height": 34
        },
        "outputId": "19a96604-6bdf-45f5-841a-273d21dde231"
      },
      "source": [
        "%%writefile prime.py\n",
        " \n",
        "import unittest\n",
        "from primes import is_prime\n",
        " \n",
        "class PrimesTestCase(unittest.TestCase):\n",
        "    \"\"\"Tests for `primes.py`.\"\"\"\n",
        " \n",
        "    def test_is_five_prime(self):\n",
        "        \"\"\"Is five successfully determined to be prime?\"\"\"\n",
        "        self.assertTrue(is_prime(5))\n",
        " \n",
        "if __name__ == '__main__':\n",
        "    unittest.main()"
      ],
      "execution_count": 2,
      "outputs": [
        {
          "output_type": "stream",
          "text": [
            "Writing prime.py\n"
          ],
          "name": "stdout"
        }
      ]
    },
    {
      "cell_type": "code",
      "metadata": {
        "id": "2DXIHqJ8YhWz",
        "colab_type": "code",
        "colab": {
          "base_uri": "https://localhost:8080/",
          "height": 418
        },
        "outputId": "f2ad74da-e90c-4788-fdd9-6e96eb1b9a2a"
      },
      "source": [
        "pip install pylint"
      ],
      "execution_count": 6,
      "outputs": [
        {
          "output_type": "stream",
          "text": [
            "Collecting pylint\n",
            "\u001b[?25l  Downloading https://files.pythonhosted.org/packages/fb/13/519c1264a134beab2be4bac8dd3e64948980a5ca7833b31cf0255b21f20a/pylint-2.6.0-py3-none-any.whl (325kB)\n",
            "\u001b[K     |████████████████████████████████| 327kB 2.7MB/s \n",
            "\u001b[?25hCollecting isort<6,>=4.2.5\n",
            "\u001b[?25l  Downloading https://files.pythonhosted.org/packages/d1/25/7ed95ccb07d3ce52598f5a57d002da6a18074ea8749991b10936cc20e539/isort-5.5.2-py3-none-any.whl (95kB)\n",
            "\u001b[K     |████████████████████████████████| 102kB 9.4MB/s \n",
            "\u001b[?25hRequirement already satisfied: toml>=0.7.1 in /usr/local/lib/python3.6/dist-packages (from pylint) (0.10.1)\n",
            "Collecting mccabe<0.7,>=0.6\n",
            "  Downloading https://files.pythonhosted.org/packages/87/89/479dc97e18549e21354893e4ee4ef36db1d237534982482c3681ee6e7b57/mccabe-0.6.1-py2.py3-none-any.whl\n",
            "Collecting astroid<=2.5,>=2.4.0\n",
            "\u001b[?25l  Downloading https://files.pythonhosted.org/packages/24/a8/5133f51967fb21e46ee50831c3f5dda49e976b7f915408d670b1603d41d6/astroid-2.4.2-py3-none-any.whl (213kB)\n",
            "\u001b[K     |████████████████████████████████| 215kB 40.8MB/s \n",
            "\u001b[?25hRequirement already satisfied: six~=1.12 in /usr/local/lib/python3.6/dist-packages (from astroid<=2.5,>=2.4.0->pylint) (1.15.0)\n",
            "Collecting lazy-object-proxy==1.4.*\n",
            "\u001b[?25l  Downloading https://files.pythonhosted.org/packages/0b/dd/b1e3407e9e6913cf178e506cd0dee818e58694d9a5cd1984e3f6a8b9a10f/lazy_object_proxy-1.4.3-cp36-cp36m-manylinux1_x86_64.whl (55kB)\n",
            "\u001b[K     |████████████████████████████████| 61kB 5.5MB/s \n",
            "\u001b[?25hCollecting typed-ast<1.5,>=1.4.0; implementation_name == \"cpython\" and python_version < \"3.8\"\n",
            "\u001b[?25l  Downloading https://files.pythonhosted.org/packages/90/ed/5459080d95eb87a02fe860d447197be63b6e2b5e9ff73c2b0a85622994f4/typed_ast-1.4.1-cp36-cp36m-manylinux1_x86_64.whl (737kB)\n",
            "\u001b[K     |████████████████████████████████| 747kB 45.0MB/s \n",
            "\u001b[?25hRequirement already satisfied: wrapt~=1.11 in /usr/local/lib/python3.6/dist-packages (from astroid<=2.5,>=2.4.0->pylint) (1.12.1)\n",
            "Installing collected packages: isort, mccabe, lazy-object-proxy, typed-ast, astroid, pylint\n",
            "Successfully installed astroid-2.4.2 isort-5.5.2 lazy-object-proxy-1.4.3 mccabe-0.6.1 pylint-2.6.0 typed-ast-1.4.1\n"
          ],
          "name": "stdout"
        }
      ]
    },
    {
      "cell_type": "code",
      "metadata": {
        "id": "nvOiXTyXY3pG",
        "colab_type": "code",
        "colab": {
          "base_uri": "https://localhost:8080/",
          "height": 262
        },
        "outputId": "4e9ed2b6-9bc6-4341-9b58-573436f458ee"
      },
      "source": [
        "! pylint primes.py"
      ],
      "execution_count": 7,
      "outputs": [
        {
          "output_type": "stream",
          "text": [
            "************* Module primes\n",
            "primes.py:5:0: W0311: Bad indentation. Found 3 spaces, expected 4 (bad-indentation)\n",
            "primes.py:6:0: W0311: Bad indentation. Found 3 spaces, expected 4 (bad-indentation)\n",
            "primes.py:7:0: W0311: Bad indentation. Found 7 spaces, expected 8 (bad-indentation)\n",
            "primes.py:9:0: W0311: Bad indentation. Found 3 spaces, expected 4 (bad-indentation)\n",
            "primes.py:10:0: W0311: Bad indentation. Found 7 spaces, expected 8 (bad-indentation)\n",
            "primes.py:11:0: W0311: Bad indentation. Found 11 spaces, expected 12 (bad-indentation)\n",
            "primes.py:13:0: C0304: Final newline missing (missing-final-newline)\n",
            "primes.py:13:0: W0311: Bad indentation. Found 3 spaces, expected 4 (bad-indentation)\n",
            "\n",
            "------------------------------------\n",
            "Your code has been rated at -1.43/10\n",
            "\n"
          ],
          "name": "stdout"
        }
      ]
    },
    {
      "cell_type": "code",
      "metadata": {
        "id": "fEjx0YigZosM",
        "colab_type": "code",
        "colab": {
          "base_uri": "https://localhost:8080/",
          "height": 34
        },
        "outputId": "ec41e4f2-45d4-4323-a781-7aa203c42aff"
      },
      "source": [
        " #QUESTION 1 (USING PYLINT)\n",
        " \n",
        "%%writefile primes.py\n",
        "'''\n",
        "Prime number function\n",
        "'''\n",
        "def is_prime(number):\n",
        "    \"\"\"Return True if *number* is prime.\"\"\"\n",
        "    if number <= 1:\n",
        "        return False\n",
        " \n",
        "    for element in range(2, number):\n",
        "        if number % element == 0 :\n",
        "            return False\n",
        " \n",
        "    return True"
      ],
      "execution_count": 8,
      "outputs": [
        {
          "output_type": "stream",
          "text": [
            "Overwriting primes.py\n"
          ],
          "name": "stdout"
        }
      ]
    },
    {
      "cell_type": "code",
      "metadata": {
        "id": "Y4ozceZCZvLS",
        "colab_type": "code",
        "colab": {
          "base_uri": "https://localhost:8080/",
          "height": 262
        },
        "outputId": "18371788-e903-4f67-eb3a-bbb85715614d"
      },
      "source": [
        "! pylint primes.py"
      ],
      "execution_count": 9,
      "outputs": [
        {
          "output_type": "stream",
          "text": [
            "************* Module primes\n",
            "primes.py:5:0: W0311: Bad indentation. Found 3 spaces, expected 4 (bad-indentation)\n",
            "primes.py:6:0: W0311: Bad indentation. Found 3 spaces, expected 4 (bad-indentation)\n",
            "primes.py:7:0: W0311: Bad indentation. Found 7 spaces, expected 8 (bad-indentation)\n",
            "primes.py:9:0: W0311: Bad indentation. Found 3 spaces, expected 4 (bad-indentation)\n",
            "primes.py:10:0: W0311: Bad indentation. Found 7 spaces, expected 8 (bad-indentation)\n",
            "primes.py:11:0: W0311: Bad indentation. Found 11 spaces, expected 12 (bad-indentation)\n",
            "primes.py:13:0: C0304: Final newline missing (missing-final-newline)\n",
            "primes.py:13:0: W0311: Bad indentation. Found 3 spaces, expected 4 (bad-indentation)\n",
            "\n",
            "--------------------------------------------------------------------\n",
            "Your code has been rated at -1.43/10 (previous run: -1.43/10, +0.00)\n",
            "\n"
          ],
          "name": "stdout"
        }
      ]
    },
    {
      "cell_type": "code",
      "metadata": {
        "id": "bJa4zV8Fi8mf",
        "colab_type": "code",
        "colab": {
          "base_uri": "https://localhost:8080/",
          "height": 71
        },
        "outputId": "79d99f99-260a-4eab-8917-20b94e4b04bf"
      },
      "source": [
        " #QUESTION 2\n",
        " \n",
        "def armgen(start,end):\n",
        "    for num in range(start,end):\n",
        "      temp=num\n",
        "      sum=0\n",
        "      while temp>0:\n",
        "        digit=temp%10\n",
        "    sum=sum+digit**3\n",
        "    temp=temp//10\n",
        "    if sum==num:\n",
        "     yield num\n",
        "ob = armgen(1,1000)\n",
        "print(\"Generators\")\n",
        "print(\"Armstrong Numbers between 0 and 1000\")\n",
        "for i in ob:\n",
        "  print(i)"
      ],
      "execution_count": null,
      "outputs": [
        {
          "output_type": "stream",
          "text": [
            "Generators\n",
            "Armstrong Numbers between 0 and 1000\n"
          ],
          "name": "stdout"
        }
      ]
    }
  ]
}