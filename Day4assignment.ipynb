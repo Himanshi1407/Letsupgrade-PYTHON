{
  "nbformat": 4,
  "nbformat_minor": 0,
  "metadata": {
    "colab": {
      "name": "Day4assignment.ipynb",
      "provenance": [],
      "authorship_tag": "ABX9TyOPxORcKdu85JKByctJLUGH",
      "include_colab_link": true
    },
    "kernelspec": {
      "name": "python3",
      "display_name": "Python 3"
    }
  },
  "cells": [
    {
      "cell_type": "markdown",
      "metadata": {
        "id": "view-in-github",
        "colab_type": "text"
      },
      "source": [
        "<a href=\"https://colab.research.google.com/github/Himanshi1407/Letsupgrade-PYTHON/blob/master/Day4assignment.ipynb\" target=\"_parent\"><img src=\"https://colab.research.google.com/assets/colab-badge.svg\" alt=\"Open In Colab\"/></a>"
      ]
    },
    {
      "cell_type": "code",
      "metadata": {
        "id": "lrk2GorqS44i",
        "colab_type": "code",
        "colab": {
          "base_uri": "https://localhost:8080/",
          "height": 54
        },
        "outputId": "53148837-449e-4bb3-ccb3-a9f219c3bf2c"
      },
      "source": [
        " \n",
        "lower = 1042000\n",
        "upper = 702648265\n",
        " \n",
        "for num in range(lower, upper + 1):\n",
        " \n",
        "   order = len(str(num))\n",
        "    \n",
        "   sum = 0\n",
        " \n",
        "   temp = num\n",
        "   while temp > 0:\n",
        "       digit = temp % 10\n",
        "       sum += digit ** order\n",
        "       temp //= 10\n",
        " \n",
        "   if num == sum:\n",
        "       print(\"The First Armstrong Number is :\",num)\n",
        "       break"
      ],
      "execution_count": 1,
      "outputs": [
        {
          "output_type": "stream",
          "text": [
            "The First Armstrong Number is : 1741725\n"
          ],
          "name": "stdout"
        }
      ]
    }
  ]
}