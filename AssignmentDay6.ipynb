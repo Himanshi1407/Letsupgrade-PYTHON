{
  "nbformat": 4,
  "nbformat_minor": 0,
  "metadata": {
    "colab": {
      "name": "AssignmentDay6.ipynb",
      "provenance": [],
      "authorship_tag": "ABX9TyOopztf926+JPxdHkk8L5uT",
      "include_colab_link": true
    },
    "kernelspec": {
      "name": "python3",
      "display_name": "Python 3"
    }
  },
  "cells": [
    {
      "cell_type": "markdown",
      "metadata": {
        "id": "view-in-github",
        "colab_type": "text"
      },
      "source": [
        "<a href=\"https://colab.research.google.com/github/Himanshi1407/Letsupgrade-PYTHON/blob/master/AssignmentDay6.ipynb\" target=\"_parent\"><img src=\"https://colab.research.google.com/assets/colab-badge.svg\" alt=\"Open In Colab\"/></a>"
      ]
    },
    {
      "cell_type": "code",
      "metadata": {
        "id": "lVp_LFW84Fs1",
        "colab_type": "code",
        "colab": {
          "base_uri": "https://localhost:8080/",
          "height": 279
        },
        "outputId": "c60accc4-e1e5-45fa-d10b-f608b176c2cf"
      },
      "source": [
        " class Account:\n",
        "    balance = 1000\n",
        "    name = \"\"\n",
        "    def __init__(self,name):\n",
        "        self.name = name\n",
        "        print(\"Welcome, Your account is created\",name)\n",
        "        print(\"You have an initial non withdrawal balance of Rs 1000\")\n",
        "        print(\"--------------------------------------\")\n",
        " \n",
        " \n",
        "    def deposit(self,bal):\n",
        "        print(f\"Amount Deposited in Account Holder Name {self.name} is : Rs {bal}\")\n",
        "        self.balance += bal\n",
        "        \n",
        " \n",
        "    def viewbalance(self):\n",
        "        print(f\"Available balance in {self.name} Account is : Rs{self.balance}\")\n",
        "    \n",
        "    \n",
        "    def issufficient(self,amt):\n",
        "        if(self.balance >= amt):\n",
        "            return True\n",
        "        else:\n",
        "           return False    \n",
        "    \n",
        "    def withdraw(self,amt):\n",
        "        if(self.issufficient(amt)):\n",
        "              self.balance -= amt\n",
        "              if(self.balance <= 1000):\n",
        "                print(\"Withdraw Amount Rs\",amt)\n",
        "                print(\"Withdraw amount not possible. Amount exceeds minimum balance\")\n",
        "                self.balance += amt\n",
        "              else:\n",
        "                print(\"Withdraw Amount Rs\",amt)\n",
        "        else:\n",
        "            within = self.balance - 1000;\n",
        "            print(\"Withdraw amount not possible. Amount exceeds minimum balance\") \n",
        "            #print(f\"Minimum Withdraw balance in {self.name} is: Rs{within}\")\n",
        " \n",
        "aravind = Account(\"aravind\");\n",
        "aravind.deposit(1000)\n",
        "aravind.viewbalance()\n",
        "print(\"\")\n",
        "aravind.deposit(3000)\n",
        "aravind.viewbalance()\n",
        "print(\"\")\n",
        "aravind.withdraw(1500)\n",
        "aravind.viewbalance()\n",
        "print(\"\")\n",
        "aravind.withdraw(4500)\n",
        "aravind.viewbalance()"
      ],
      "execution_count": 2,
      "outputs": [
        {
          "output_type": "stream",
          "text": [
            "Welcome, Your account is created aravind\n",
            "You have an initial non withdrawal balance of Rs 1000\n",
            "--------------------------------------\n",
            "Amount Deposited in Account Holder Name aravind is : Rs 1000\n",
            "Available balance in aravind Account is : Rs2000\n",
            "\n",
            "Amount Deposited in Account Holder Name aravind is : Rs 3000\n",
            "Available balance in aravind Account is : Rs5000\n",
            "\n",
            "Withdraw Amount Rs 1500\n",
            "Available balance in aravind Account is : Rs3500\n",
            "\n",
            "Withdraw amount not possible. Amount exceeds minimum balance\n",
            "Available balance in aravind Account is : Rs3500\n"
          ],
          "name": "stdout"
        }
      ]
    },
    {
      "cell_type": "code",
      "metadata": {
        "id": "ocG4kO-A4aog",
        "colab_type": "code",
        "colab": {
          "base_uri": "https://localhost:8080/",
          "height": 51
        },
        "outputId": "43adf9f4-34ae-4af7-c79a-5ec83ad9cea1"
      },
      "source": [
        " import math\n",
        "class cone:\n",
        "    pi=math.pi\n",
        "    def volume(self,height,radius):\n",
        "        vol = self.pi*(radius*radius)*height/3;\n",
        "        return vol\n",
        "    def surface_area(self,radius,slat_height):\n",
        "        sa = self.pi*radius*slat_height + self.pi*radius*radius\n",
        "        return sa\n",
        " \n",
        "c1 = cone()\n",
        "print(c1.volume(2,4))\n",
        "print(c1.surface_area(2,8))"
      ],
      "execution_count": 3,
      "outputs": [
        {
          "output_type": "stream",
          "text": [
            "33.510321638291124\n",
            "62.83185307179586\n"
          ],
          "name": "stdout"
        }
      ]
    }
  ]
}